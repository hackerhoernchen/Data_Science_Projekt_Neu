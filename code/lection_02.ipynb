{
 "cells": [
  {
   "cell_type": "markdown",
   "id": "cbc5e006",
   "metadata": {},
   "source": [
    "# Megatutorial 1: Explorative Datenanalyse\n",
    "\n",
    "In diesem Megatutorial beschäftigen wir uns mit der explorativen Datenanalyse in Python.\n",
    "\n",
    "## Aufgaben\n",
    "\n",
    "* Lade die Daten in `pandas`.\n",
    "* Führe eine deskriptive Datenanalyse mit geeigneten, statisches Maßen durch.\n",
    "* Führe eine deskriptive Datenanalyse mit Hilfe von geeigneten Visualisierungen durch.\n",
    "\n"
   ]
  },
  {
   "cell_type": "code",
   "execution_count": 1,
   "id": "53195b14",
   "metadata": {},
   "outputs": [
    {
     "name": "stdout",
     "output_type": "stream",
     "text": [
      "Requirement already satisfied: pandas==2.2.3 in /Users/julianhoernle/Documents/Dokumente/Privat/Studium/MCI/Uni/Semester_2/Data_Science/Githup_Projekt/Data_Science_Projekt_Neu/.venv/lib/python3.13/site-packages (from -r ../requirements.txt (line 1)) (2.2.3)\n",
      "Requirement already satisfied: scikit-learn==1.6.1 in /Users/julianhoernle/Documents/Dokumente/Privat/Studium/MCI/Uni/Semester_2/Data_Science/Githup_Projekt/Data_Science_Projekt_Neu/.venv/lib/python3.13/site-packages (from -r ../requirements.txt (line 2)) (1.6.1)\n",
      "Requirement already satisfied: scipy==1.15.3 in /Users/julianhoernle/Documents/Dokumente/Privat/Studium/MCI/Uni/Semester_2/Data_Science/Githup_Projekt/Data_Science_Projekt_Neu/.venv/lib/python3.13/site-packages (from -r ../requirements.txt (line 3)) (1.15.3)\n",
      "Collecting seaborn (from -r ../requirements.txt (line 4))\n",
      "  Downloading seaborn-0.13.2-py3-none-any.whl.metadata (5.4 kB)\n",
      "Collecting matplotlib (from -r ../requirements.txt (line 5))\n",
      "  Downloading matplotlib-3.10.3-cp313-cp313-macosx_11_0_arm64.whl.metadata (11 kB)\n",
      "Requirement already satisfied: numpy>=1.26.0 in /Users/julianhoernle/Documents/Dokumente/Privat/Studium/MCI/Uni/Semester_2/Data_Science/Githup_Projekt/Data_Science_Projekt_Neu/.venv/lib/python3.13/site-packages (from pandas==2.2.3->-r ../requirements.txt (line 1)) (2.2.6)\n",
      "Requirement already satisfied: python-dateutil>=2.8.2 in /Users/julianhoernle/Documents/Dokumente/Privat/Studium/MCI/Uni/Semester_2/Data_Science/Githup_Projekt/Data_Science_Projekt_Neu/.venv/lib/python3.13/site-packages (from pandas==2.2.3->-r ../requirements.txt (line 1)) (2.9.0.post0)\n",
      "Requirement already satisfied: pytz>=2020.1 in /Users/julianhoernle/Documents/Dokumente/Privat/Studium/MCI/Uni/Semester_2/Data_Science/Githup_Projekt/Data_Science_Projekt_Neu/.venv/lib/python3.13/site-packages (from pandas==2.2.3->-r ../requirements.txt (line 1)) (2025.2)\n",
      "Requirement already satisfied: tzdata>=2022.7 in /Users/julianhoernle/Documents/Dokumente/Privat/Studium/MCI/Uni/Semester_2/Data_Science/Githup_Projekt/Data_Science_Projekt_Neu/.venv/lib/python3.13/site-packages (from pandas==2.2.3->-r ../requirements.txt (line 1)) (2025.2)\n",
      "Requirement already satisfied: joblib>=1.2.0 in /Users/julianhoernle/Documents/Dokumente/Privat/Studium/MCI/Uni/Semester_2/Data_Science/Githup_Projekt/Data_Science_Projekt_Neu/.venv/lib/python3.13/site-packages (from scikit-learn==1.6.1->-r ../requirements.txt (line 2)) (1.5.1)\n",
      "Requirement already satisfied: threadpoolctl>=3.1.0 in /Users/julianhoernle/Documents/Dokumente/Privat/Studium/MCI/Uni/Semester_2/Data_Science/Githup_Projekt/Data_Science_Projekt_Neu/.venv/lib/python3.13/site-packages (from scikit-learn==1.6.1->-r ../requirements.txt (line 2)) (3.6.0)\n",
      "Collecting contourpy>=1.0.1 (from matplotlib->-r ../requirements.txt (line 5))\n",
      "  Downloading contourpy-1.3.2-cp313-cp313-macosx_11_0_arm64.whl.metadata (5.5 kB)\n",
      "Collecting cycler>=0.10 (from matplotlib->-r ../requirements.txt (line 5))\n",
      "  Downloading cycler-0.12.1-py3-none-any.whl.metadata (3.8 kB)\n",
      "Collecting fonttools>=4.22.0 (from matplotlib->-r ../requirements.txt (line 5))\n",
      "  Downloading fonttools-4.58.1-cp313-cp313-macosx_10_13_universal2.whl.metadata (106 kB)\n",
      "Collecting kiwisolver>=1.3.1 (from matplotlib->-r ../requirements.txt (line 5))\n",
      "  Downloading kiwisolver-1.4.8-cp313-cp313-macosx_11_0_arm64.whl.metadata (6.2 kB)\n",
      "Requirement already satisfied: packaging>=20.0 in /Users/julianhoernle/Documents/Dokumente/Privat/Studium/MCI/Uni/Semester_2/Data_Science/Githup_Projekt/Data_Science_Projekt_Neu/.venv/lib/python3.13/site-packages (from matplotlib->-r ../requirements.txt (line 5)) (25.0)\n",
      "Collecting pillow>=8 (from matplotlib->-r ../requirements.txt (line 5))\n",
      "  Downloading pillow-11.2.1-cp313-cp313-macosx_11_0_arm64.whl.metadata (8.9 kB)\n",
      "Collecting pyparsing>=2.3.1 (from matplotlib->-r ../requirements.txt (line 5))\n",
      "  Downloading pyparsing-3.2.3-py3-none-any.whl.metadata (5.0 kB)\n",
      "Requirement already satisfied: six>=1.5 in /Users/julianhoernle/Documents/Dokumente/Privat/Studium/MCI/Uni/Semester_2/Data_Science/Githup_Projekt/Data_Science_Projekt_Neu/.venv/lib/python3.13/site-packages (from python-dateutil>=2.8.2->pandas==2.2.3->-r ../requirements.txt (line 1)) (1.17.0)\n",
      "Downloading seaborn-0.13.2-py3-none-any.whl (294 kB)\n",
      "Downloading matplotlib-3.10.3-cp313-cp313-macosx_11_0_arm64.whl (8.1 MB)\n",
      "\u001b[2K   \u001b[90m━━━━━━━━━━━━━━━━━━━━━━━━━━━━━━━━━━━━━━━━\u001b[0m \u001b[32m8.1/8.1 MB\u001b[0m \u001b[31m23.8 MB/s\u001b[0m eta \u001b[36m0:00:00\u001b[0ma \u001b[36m0:00:01\u001b[0m\n",
      "\u001b[?25hDownloading contourpy-1.3.2-cp313-cp313-macosx_11_0_arm64.whl (255 kB)\n",
      "Downloading cycler-0.12.1-py3-none-any.whl (8.3 kB)\n",
      "Downloading fonttools-4.58.1-cp313-cp313-macosx_10_13_universal2.whl (2.7 MB)\n",
      "\u001b[2K   \u001b[90m━━━━━━━━━━━━━━━━━━━━━━━━━━━━━━━━━━━━━━━━\u001b[0m \u001b[32m2.7/2.7 MB\u001b[0m \u001b[31m26.5 MB/s\u001b[0m eta \u001b[36m0:00:00\u001b[0m\n",
      "\u001b[?25hDownloading kiwisolver-1.4.8-cp313-cp313-macosx_11_0_arm64.whl (65 kB)\n",
      "Downloading pillow-11.2.1-cp313-cp313-macosx_11_0_arm64.whl (3.0 MB)\n",
      "\u001b[2K   \u001b[90m━━━━━━━━━━━━━━━━━━━━━━━━━━━━━━━━━━━━━━━━\u001b[0m \u001b[32m3.0/3.0 MB\u001b[0m \u001b[31m16.8 MB/s\u001b[0m eta \u001b[36m0:00:00\u001b[0m\n",
      "\u001b[?25hDownloading pyparsing-3.2.3-py3-none-any.whl (111 kB)\n",
      "Installing collected packages: pyparsing, pillow, kiwisolver, fonttools, cycler, contourpy, matplotlib, seaborn\n",
      "\u001b[2K   \u001b[90m━━━━━━━━━━━━━━━━━━━━━━━━━━━━━━━━━━━━━━━━\u001b[0m \u001b[32m8/8\u001b[0m [seaborn]m7/8\u001b[0m [seaborn]ib]\n",
      "\u001b[1A\u001b[2KSuccessfully installed contourpy-1.3.2 cycler-0.12.1 fonttools-4.58.1 kiwisolver-1.4.8 matplotlib-3.10.3 pillow-11.2.1 pyparsing-3.2.3 seaborn-0.13.2\n"
     ]
    }
   ],
   "source": [
    "!pip install -r ../requirements.txt"
   ]
  },
  {
   "cell_type": "markdown",
   "id": "9cbaf184",
   "metadata": {},
   "source": [
    "## Daten in Pandas Laden"
   ]
  },
  {
   "cell_type": "code",
   "execution_count": 4,
   "id": "68f6da4f",
   "metadata": {},
   "outputs": [],
   "source": [
    "from pandas import read_csv\n",
    "\n",
    "## Das Werkzeug \"Read_csv\" wird in die Werkstatt, also hier in die Umgebung gebracht"
   ]
  },
  {
   "cell_type": "code",
   "execution_count": 18,
   "id": "e39ff3ae",
   "metadata": {},
   "outputs": [
    {
     "ename": "TypeError",
     "evalue": "read_csv() got an unexpected keyword argument 'skriprows'. Did you mean 'skiprows'?",
     "output_type": "error",
     "traceback": [
      "\u001b[31m---------------------------------------------------------------------------\u001b[39m",
      "\u001b[31mTypeError\u001b[39m                                 Traceback (most recent call last)",
      "\u001b[36mCell\u001b[39m\u001b[36m \u001b[39m\u001b[32mIn[18]\u001b[39m\u001b[32m, line 1\u001b[39m\n\u001b[32m----> \u001b[39m\u001b[32m1\u001b[39m data = \u001b[43mread_csv\u001b[49m\u001b[43m(\u001b[49m\n\u001b[32m      2\u001b[39m \u001b[43m    \u001b[49m\u001b[33;43m\"\u001b[39;49m\u001b[33;43m../data/fake_profiles.csv\u001b[39;49m\u001b[33;43m\"\u001b[39;49m\u001b[43m,\u001b[49m\n\u001b[32m      3\u001b[39m \u001b[43m    \u001b[49m\u001b[43msep\u001b[49m\u001b[43m=\u001b[49m\u001b[33;43m\"\u001b[39;49m\u001b[33;43m,\u001b[39;49m\u001b[33;43m\"\u001b[39;49m\u001b[43m,\u001b[49m\u001b[43m \u001b[49m\u001b[38;5;66;43;03m# seperieren durch Komma\u001b[39;49;00m\n\u001b[32m      4\u001b[39m \u001b[43m    \u001b[49m\u001b[43mdecimal\u001b[49m\u001b[43m=\u001b[49m\u001b[33;43m\"\u001b[39;49m\u001b[33;43m.\u001b[39;49m\u001b[33;43m\"\u001b[39;49m\u001b[43m,\u001b[49m\n\u001b[32m      5\u001b[39m \u001b[43m    \u001b[49m\u001b[43mskriprows\u001b[49m\u001b[43m=\u001b[49m\u001b[38;5;28;43;01mNone\u001b[39;49;00m\u001b[43m,\u001b[49m\u001b[43m \u001b[49m\u001b[38;5;66;43;03m#oder: [0,1,10]\u001b[39;49;00m\n\u001b[32m      6\u001b[39m \u001b[43m    \u001b[49m\u001b[43musecols\u001b[49m\u001b[43m=\u001b[49m\u001b[38;5;28;43;01mNone\u001b[39;49;00m\n\u001b[32m      7\u001b[39m \u001b[43m)\u001b[49m\n\u001b[32m     10\u001b[39m data.head(\u001b[32m5\u001b[39m)\n\u001b[32m     13\u001b[39m \u001b[38;5;66;03m## Funktion wird jetzt hier aufgerufen. Mit Komma in der Klammer kann ich die Optionen für argomente anzeigen lassen\u001b[39;00m\n",
      "\u001b[31mTypeError\u001b[39m: read_csv() got an unexpected keyword argument 'skriprows'. Did you mean 'skiprows'?"
     ]
    }
   ],
   "source": [
    "data = read_csv(\n",
    "    \"../data/fake_profiles.csv\",\n",
    "    sep=\",\", # seperieren durch Komma\n",
    "    decimal=\".\",\n",
    "    skriprows=None, #oder: [0,1,10]\n",
    "    usecols=None\n",
    ")\n",
    "\n",
    "\n",
    "data.head(5)\n",
    "\n",
    "\n",
    "## Funktion wird jetzt hier aufgerufen. Mit Komma in der Klammer kann ich die Optionen für argomente anzeigen lassen"
   ]
  },
  {
   "cell_type": "code",
   "execution_count": null,
   "id": "1f70310b",
   "metadata": {},
   "outputs": [],
   "source": []
  },
  {
   "cell_type": "code",
   "execution_count": null,
   "id": "6e870985",
   "metadata": {},
   "outputs": [],
   "source": []
  }
 ],
 "metadata": {
  "kernelspec": {
   "display_name": ".venv",
   "language": "python",
   "name": "python3"
  },
  "language_info": {
   "codemirror_mode": {
    "name": "ipython",
    "version": 3
   },
   "file_extension": ".py",
   "mimetype": "text/x-python",
   "name": "python",
   "nbconvert_exporter": "python",
   "pygments_lexer": "ipython3",
   "version": "3.13.0"
  }
 },
 "nbformat": 4,
 "nbformat_minor": 5
}
